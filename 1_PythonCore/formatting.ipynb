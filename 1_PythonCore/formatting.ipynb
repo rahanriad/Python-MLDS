{
 "cells": [
  {
   "cell_type": "markdown",
   "metadata": {},
   "source": [
    "# String Formatting"
   ]
  },
  {
   "cell_type": "markdown",
   "metadata": {},
   "source": [
    "#### %s Formatting with placeholders"
   ]
  },
  {
   "cell_type": "code",
   "execution_count": 4,
   "metadata": {},
   "outputs": [
    {
     "name": "stdout",
     "output_type": "stream",
     "text": [
      "I will give some string here.\n"
     ]
    }
   ],
   "source": [
    "# %s will inject strings into your print statements. The modulo % is referred to as a \"string formatting operator\".\n",
    "\n",
    "print('I will give some %s here.' %'string')"
   ]
  },
  {
   "cell_type": "code",
   "execution_count": 5,
   "metadata": {},
   "outputs": [
    {
     "name": "stdout",
     "output_type": "stream",
     "text": [
      "I will write some code here and give some comment here.\n"
     ]
    }
   ],
   "source": [
    "# can pass multiple items by placing them inside a tuple after the % operator.\n",
    "\n",
    "print('I will write some %s here and give some %s here.'%('code','comment'))"
   ]
  },
  {
   "cell_type": "code",
   "execution_count": 8,
   "metadata": {},
   "outputs": [
    {
     "name": "stdout",
     "output_type": "stream",
     "text": [
      "I am going to inject some code here and more code here.\n"
     ]
    }
   ],
   "source": [
    "# can also pass variable names:\n",
    "\n",
    "x,y = 'some','more'\n",
    "print('I am going to inject %s code here and %s code here.'%(x,y))"
   ]
  },
  {
   "cell_type": "code",
   "execution_count": 14,
   "metadata": {},
   "outputs": [
    {
     "name": "stdout",
     "output_type": "stream",
     "text": [
      "floating point numbers: 1.30\n",
      "floating point numbers:                      1.30\n"
     ]
    }
   ],
   "source": [
    "# printing floating numbers\n",
    "\n",
    "print('floating point numbers: %1.2f'%(1.296543)) #here 1 means how many trailing spaces you want\n",
    "print('floating point numbers: %25.2f'%(1.296543))"
   ]
  },
  {
   "cell_type": "markdown",
   "metadata": {},
   "source": [
    "#### .format method"
   ]
  },
  {
   "cell_type": "markdown",
   "metadata": {},
   "source": [
    "##### .format Syntax:- 'String { } { } { }' .format('1st string feeding 1st curly braces','2nd string feeding 2nd curly braces','3rd string feeding 3rd curly braces')"
   ]
  },
  {
   "cell_type": "code",
   "execution_count": null,
   "metadata": {},
   "outputs": [],
   "source": [
    "name = 'John Smith'\n",
    "age = 24\n",
    "w = 67.78"
   ]
  },
  {
   "cell_type": "code",
   "execution_count": null,
   "metadata": {},
   "outputs": [],
   "source": [
    "print('you can start with a string {} you can type sring here also {}' .format('will feed 1st curly braces','will feed 2nd curly braces'))"
   ]
  },
  {
   "cell_type": "code",
   "execution_count": null,
   "metadata": {},
   "outputs": [],
   "source": [
    "'my name is, {} accha bole dei {}'.format('bolbo na,','Rahan')"
   ]
  },
  {
   "cell_type": "code",
   "execution_count": null,
   "metadata": {},
   "outputs": [],
   "source": [
    "print('The {1} {0} {2}'.format('brown','quick','fox'))"
   ]
  },
  {
   "cell_type": "code",
   "execution_count": null,
   "metadata": {},
   "outputs": [],
   "source": [
    "print('The {f} {f} {f}' .format(b='brown', q='quick', f='fox'))"
   ]
  },
  {
   "cell_type": "code",
   "execution_count": null,
   "metadata": {},
   "outputs": [],
   "source": [
    "result = 100/777\n",
    "result\n",
    "print('The result is {r:1.3f}'.format(r=result))"
   ]
  },
  {
   "cell_type": "code",
   "execution_count": null,
   "metadata": {},
   "outputs": [],
   "source": [
    "print(\"Name: {0} Age: {1} Weight: {2}\".format(name,age,w))"
   ]
  },
  {
   "cell_type": "markdown",
   "metadata": {},
   "source": [
    "#### f string (formated string literals)"
   ]
  },
  {
   "cell_type": "code",
   "execution_count": null,
   "metadata": {},
   "outputs": [],
   "source": [
    "print(\"Name: %s Age: %d Weight: %.2f\" %(name,age,w))"
   ]
  },
  {
   "cell_type": "code",
   "execution_count": null,
   "metadata": {},
   "outputs": [],
   "source": [
    "print(f\"Name: {name} Age: {age} Weight: {w}\")  #f string the fav one."
   ]
  },
  {
   "cell_type": "code",
   "execution_count": null,
   "metadata": {},
   "outputs": [],
   "source": [
    "name = 'Rahan Uddin Ahmed'\n",
    "age = 27\n",
    "weight = 82.4562482\n"
   ]
  },
  {
   "cell_type": "code",
   "execution_count": null,
   "metadata": {},
   "outputs": [],
   "source": [
    "print(f'My name is: {name} , age is {age} and the weight is: {weight} Kg')"
   ]
  },
  {
   "cell_type": "code",
   "execution_count": 3,
   "metadata": {},
   "outputs": [
    {
     "name": "stdout",
     "output_type": "stream",
     "text": [
      "Last night, Rahan scored 52 points and Rahan also did two goals.\n"
     ]
    }
   ],
   "source": [
    "player = 'Rahan'\n",
    "points = 52\n",
    "\n",
    "print(f'Last night, {player} scored {points} points and {player} also did two goals.')"
   ]
  }
 ],
 "metadata": {
  "kernelspec": {
   "display_name": "Python 3.10.5 64-bit",
   "language": "python",
   "name": "python3"
  },
  "language_info": {
   "codemirror_mode": {
    "name": "ipython",
    "version": 3
   },
   "file_extension": ".py",
   "mimetype": "text/x-python",
   "name": "python",
   "nbconvert_exporter": "python",
   "pygments_lexer": "ipython3",
   "version": "3.10.5"
  },
  "orig_nbformat": 4,
  "vscode": {
   "interpreter": {
    "hash": "369f2c481f4da34e4445cda3fffd2e751bd1c4d706f27375911949ba6bb62e1c"
   }
  }
 },
 "nbformat": 4,
 "nbformat_minor": 2
}
