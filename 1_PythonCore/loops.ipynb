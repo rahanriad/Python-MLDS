{
 "cells": [
  {
   "cell_type": "markdown",
   "metadata": {},
   "source": [
    "# while Loop"
   ]
  },
  {
   "cell_type": "code",
   "execution_count": null,
   "metadata": {},
   "outputs": [],
   "source": [
    "start, stop = 1,5\n",
    "\n",
    "while start <= stop:         #while loop will go on and on when its getting true value, when it gets false it will stop\n",
    "    print(start)\n",
    "    start += 1"
   ]
  },
  {
   "cell_type": "code",
   "execution_count": null,
   "metadata": {},
   "outputs": [],
   "source": [
    "start, stop = 1,5\n",
    "\n",
    "while stop >= start:\n",
    "    print(stop)\n",
    "    stop -= 1"
   ]
  },
  {
   "cell_type": "markdown",
   "metadata": {},
   "source": [
    "# for Loop"
   ]
  },
  {
   "cell_type": "code",
   "execution_count": 28,
   "metadata": {},
   "outputs": [
    {
     "data": {
      "text/plain": [
       "[1, 2, 3, 4, 5]"
      ]
     },
     "execution_count": 28,
     "metadata": {},
     "output_type": "execute_result"
    }
   ],
   "source": [
    "list(range(1,6))   #a formula that will produce integers structure is: start,stop,step"
   ]
  },
  {
   "cell_type": "code",
   "execution_count": 29,
   "metadata": {},
   "outputs": [
    {
     "name": "stdout",
     "output_type": "stream",
     "text": [
      "1\n",
      "2\n",
      "3\n",
      "4\n",
      "5\n"
     ]
    }
   ],
   "source": [
    "for num in range(1,6,1):\n",
    "    print(num)"
   ]
  },
  {
   "cell_type": "markdown",
   "metadata": {},
   "source": [
    "##### while loop will be run based on a boolean and for loop run based on iteration (a variable that will iterate)"
   ]
  },
  {
   "cell_type": "code",
   "execution_count": 30,
   "metadata": {},
   "outputs": [
    {
     "name": "stdout",
     "output_type": "stream",
     "text": [
      "P\n",
      "y\n",
      "t\n",
      "h\n",
      "o\n",
      "n\n"
     ]
    }
   ],
   "source": [
    "s = \"Python\"\n",
    "\n",
    "for text in s:\n",
    "    print(text)"
   ]
  },
  {
   "cell_type": "code",
   "execution_count": 31,
   "metadata": {},
   "outputs": [
    {
     "name": "stdout",
     "output_type": "stream",
     "text": [
      "('roll', 1)\n",
      "('name', 'Alexa')\n",
      "('dept', 'CSE')\n"
     ]
    }
   ],
   "source": [
    "std = {'roll':1, 'name':'Alexa', 'dept': 'CSE'}\n",
    "\n",
    "for val in std.items():\n",
    "    print(val)"
   ]
  },
  {
   "cell_type": "markdown",
   "metadata": {},
   "source": [
    "##### We also can multiple iterable in for loop like the following"
   ]
  },
  {
   "cell_type": "code",
   "execution_count": 32,
   "metadata": {},
   "outputs": [
    {
     "name": "stdout",
     "output_type": "stream",
     "text": [
      "roll 1\n",
      "name Alexa\n",
      "dept CSE\n"
     ]
    }
   ],
   "source": [
    "std = {'roll':1, 'name':'Alexa', 'dept': 'CSE'}\n",
    "\n",
    "for keys, val in std.items():     #here key will be store in keys iterable and value will be store in val iterable\n",
    "    print(keys, val)"
   ]
  },
  {
   "cell_type": "code",
   "execution_count": 33,
   "metadata": {},
   "outputs": [
    {
     "name": "stdout",
     "output_type": "stream",
     "text": [
      "1\n",
      "4\n",
      "9\n",
      "64\n",
      "16\n",
      "36\n",
      "64\n",
      "9\n",
      "49\n",
      "81\n"
     ]
    }
   ],
   "source": [
    "for row in [(1,2,3,8), (4,6,8), (3,7,9)]:\n",
    "    for col in row:\n",
    "        print(col**2)"
   ]
  },
  {
   "cell_type": "code",
   "execution_count": null,
   "metadata": {},
   "outputs": [],
   "source": [
    "data = [\n",
    "    (1,2,3)\n",
    "    (4,6,2)\n",
    "    (7,6,89)\n",
    "     ]"
   ]
  },
  {
   "cell_type": "markdown",
   "metadata": {},
   "source": [
    "# break"
   ]
  },
  {
   "cell_type": "code",
   "execution_count": 35,
   "metadata": {},
   "outputs": [
    {
     "name": "stdout",
     "output_type": "stream",
     "text": [
      "Searching\n",
      "Searching\n",
      "Searching\n",
      "Searching\n",
      "Found data!\n",
      "Searching\n",
      "Searching\n",
      "Searching\n"
     ]
    }
   ],
   "source": [
    "for num in (1,2,3,4,526,62,56):\n",
    "    if num == 526:\n",
    "        print(\"Found data!\")\n",
    "    print(\"Searching\")"
   ]
  },
  {
   "cell_type": "code",
   "execution_count": 37,
   "metadata": {},
   "outputs": [
    {
     "name": "stdout",
     "output_type": "stream",
     "text": [
      "Searching\n",
      "Searching\n",
      "Searching\n",
      "Searching\n",
      "Found data!\n"
     ]
    }
   ],
   "source": [
    "for num in (1,2,3,4,526,62,56):\n",
    "    if num == 526:\n",
    "        print(\"Found data!\")\n",
    "        break                 #break means stop the loop\n",
    "    print(\"Searching\")"
   ]
  },
  {
   "cell_type": "code",
   "execution_count": 41,
   "metadata": {},
   "outputs": [
    {
     "name": "stdout",
     "output_type": "stream",
     "text": [
      "1\n",
      "2\n",
      "3\n",
      "Found 3\n"
     ]
    }
   ],
   "source": [
    "start, stop = 1,5\n",
    "while start <= stop:\n",
    "    print (start)\n",
    "    if start == 3:\n",
    "        print('Found 3')\n",
    "        break\n",
    "    start += 1"
   ]
  },
  {
   "cell_type": "markdown",
   "metadata": {},
   "source": [
    "# continue"
   ]
  },
  {
   "cell_type": "code",
   "execution_count": 47,
   "metadata": {},
   "outputs": [
    {
     "name": "stdout",
     "output_type": "stream",
     "text": [
      "1\n",
      "4\n",
      "9\n",
      "16\n",
      "Found data!\n",
      "3844\n",
      "3136\n",
      "Done\n"
     ]
    }
   ],
   "source": [
    "for num in (1,2,3,4,526,62,56):\n",
    "    if num == 526:\n",
    "        print(\"Found data!\")\n",
    "        continue             #continue means not stopping the loop but skipping in a certain area\n",
    "    print(num ** 2)\n",
    "print('Done')\n"
   ]
  }
 ],
 "metadata": {
  "kernelspec": {
   "display_name": "Python 3.10.5 64-bit",
   "language": "python",
   "name": "python3"
  },
  "language_info": {
   "codemirror_mode": {
    "name": "ipython",
    "version": 3
   },
   "file_extension": ".py",
   "mimetype": "text/x-python",
   "name": "python",
   "nbconvert_exporter": "python",
   "pygments_lexer": "ipython3",
   "version": "3.10.5"
  },
  "orig_nbformat": 4,
  "vscode": {
   "interpreter": {
    "hash": "369f2c481f4da34e4445cda3fffd2e751bd1c4d706f27375911949ba6bb62e1c"
   }
  }
 },
 "nbformat": 4,
 "nbformat_minor": 2
}
