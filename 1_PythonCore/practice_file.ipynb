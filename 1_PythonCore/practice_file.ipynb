{
 "cells": [
  {
   "cell_type": "code",
   "execution_count": null,
   "metadata": {},
   "outputs": [],
   "source": [
    "s = 'Python'\n",
    "\n",
    "'P' in s"
   ]
  },
  {
   "cell_type": "code",
   "execution_count": null,
   "metadata": {},
   "outputs": [],
   "source": [
    "a = 3\n",
    "b = 3.0\n",
    "\n",
    "a == b\n",
    "\n",
    "a is b"
   ]
  },
  {
   "cell_type": "code",
   "execution_count": null,
   "metadata": {},
   "outputs": [],
   "source": [
    "num = 44\n",
    "\n",
    "if num % 2 == 0:\n",
    "    print(\"Even Number\")\n",
    "else:\n",
    "    print(\"Odd Number\")"
   ]
  },
  {
   "cell_type": "code",
   "execution_count": null,
   "metadata": {},
   "outputs": [],
   "source": [
    "num = 44\n",
    "\n",
    "num & 1"
   ]
  },
  {
   "cell_type": "code",
   "execution_count": null,
   "metadata": {},
   "outputs": [],
   "source": [
    "avg = 86\n",
    "\n",
    "if avg > 80:\n",
    "    print(\"Grade A\")\n",
    "elif avg > 70:\n",
    "    print(\"Grade B\")\n",
    "elif avg > 50:\n",
    "    print(\"Grade C\")\n",
    "elif avg > 40:\n",
    "    print(\"Grade D\")\n",
    "else:\n",
    "    print(\"Fail\")"
   ]
  },
  {
   "cell_type": "code",
   "execution_count": null,
   "metadata": {},
   "outputs": [],
   "source": [
    "age = 9\n",
    "salary = 20000\n",
    "\n",
    "if age > 18 and salary >= 30000:\n",
    "    print(\"Eligible for a Credit Card\")\n",
    "elif age > 10:\n",
    "    print(\"Eligible for a Debit Card\")\n",
    "else:\n",
    "    print(\"Not eligible for a card\")"
   ]
  },
  {
   "cell_type": "code",
   "execution_count": null,
   "metadata": {},
   "outputs": [],
   "source": [
    "for num in (1,2,3,4,526,62,56):\n",
    "    print(num)\n",
    "    if num == 526:\n",
    "        break\n",
    "    print(\"Searching..\")"
   ]
  },
  {
   "cell_type": "code",
   "execution_count": null,
   "metadata": {},
   "outputs": [],
   "source": [
    "bucket = []\n",
    "\n",
    "for x in range(1,11):\n",
    "    if x % 2 == 0:\n",
    "        bucket.append(x**2)\n",
    "    else:\n",
    "        bucket.append(x**3)\n",
    "bucket"
   ]
  },
  {
   "cell_type": "code",
   "execution_count": null,
   "metadata": {},
   "outputs": [],
   "source": [
    "bucket = [ x**2 if x % 2 == 0 else x**3 for x in range(1,10)]\n",
    "\n",
    "bucket"
   ]
  },
  {
   "cell_type": "code",
   "execution_count": null,
   "metadata": {},
   "outputs": [],
   "source": [
    "bucket = set (x**2 if x % 2 == 0 else x**3 for x in range(1,10))\n",
    "\n",
    "bucket"
   ]
  },
  {
   "cell_type": "code",
   "execution_count": null,
   "metadata": {},
   "outputs": [],
   "source": [
    "bucket = { x : x**2 if x % 2 == 0 else x**3 for x in range(1,10)}\n",
    "\n",
    "bucket"
   ]
  },
  {
   "cell_type": "code",
   "execution_count": null,
   "metadata": {},
   "outputs": [],
   "source": [
    "data = [\n",
    "    [3,1,7],\n",
    "    [5,4,6],\n",
    "    [9,7,8]\n",
    "]\n",
    "\n",
    "data"
   ]
  },
  {
   "cell_type": "code",
   "execution_count": null,
   "metadata": {},
   "outputs": [],
   "source": [
    "sqbucket = []\n",
    "\n",
    "for row in data:\n",
    "    temp = []\n",
    "    for col in row:\n",
    "        if col % 2 == 0:\n",
    "            temp.append(col**2)\n",
    "        else:\n",
    "            temp.append(col**3)\n",
    "temp"
   ]
  },
  {
   "cell_type": "markdown",
   "metadata": {},
   "source": [
    "### Ternary Operation"
   ]
  },
  {
   "cell_type": "code",
   "execution_count": null,
   "metadata": {},
   "outputs": [],
   "source": [
    "num = 44\n",
    "result = \" \"\n",
    "\n",
    "if num % 2 == 0:\n",
    "    result = \"Even\"\n",
    "else:\n",
    "    result = \"Odd\"\n",
    "result"
   ]
  },
  {
   "cell_type": "code",
   "execution_count": null,
   "metadata": {},
   "outputs": [],
   "source": [
    "num = 45\n",
    "\n",
    "variable = 'Even' if num % 2 == 0 else 'Odd'\n",
    "\n",
    "variable"
   ]
  },
  {
   "cell_type": "code",
   "execution_count": null,
   "metadata": {},
   "outputs": [],
   "source": [
    "a, b = 84, 56\n",
    "\n",
    "largest = \"a is largest\" if a > b else \"b is largest\"\n",
    "largest"
   ]
  },
  {
   "cell_type": "code",
   "execution_count": null,
   "metadata": {},
   "outputs": [],
   "source": [
    "a, b = 24, 56\n",
    "\n",
    "largest = a if a > b else b\n",
    "largest"
   ]
  },
  {
   "cell_type": "code",
   "execution_count": null,
   "metadata": {},
   "outputs": [],
   "source": [
    "a, b = 84, 84\n",
    "\n",
    "largest = a if a > b else (b if b > a else a + b)\n",
    "largest"
   ]
  },
  {
   "cell_type": "code",
   "execution_count": null,
   "metadata": {},
   "outputs": [],
   "source": [
    "a, b, c = 44, 66, 37\n",
    "\n",
    "largest = a if a > b and c else (b if b>a>c else c)\n",
    "largest"
   ]
  },
  {
   "cell_type": "code",
   "execution_count": null,
   "metadata": {},
   "outputs": [],
   "source": [
    "a, b, c = 44, 26, 37\n",
    "\n",
    "largest = a if a > b and c else (b if b > a and c else c)\n",
    "largest"
   ]
  },
  {
   "cell_type": "code",
   "execution_count": 112,
   "metadata": {},
   "outputs": [
    {
     "name": "stdout",
     "output_type": "stream",
     "text": [
      "60\n"
     ]
    }
   ],
   "source": [
    "a,b,c,d = 60,50,30,40\n",
    "\n",
    "if a>b and c and d:\n",
    "    print(a)\n",
    "elif b>c and d and a:\n",
    "    print(b)\n",
    "elif c>d and a and b:\n",
    "    print(c)\n",
    "else:\n",
    "    print(d)"
   ]
  },
  {
   "cell_type": "code",
   "execution_count": 114,
   "metadata": {},
   "outputs": [
    {
     "name": "stdout",
     "output_type": "stream",
     "text": [
      "30\n"
     ]
    }
   ],
   "source": [
    "if a < b and c and d:\n",
    "    print(a)\n",
    "elif b < c and d and a:\n",
    "    print(b)\n",
    "elif c < d and a and b:\n",
    "    print(c)\n",
    "else:\n",
    "    print(d)"
   ]
  },
  {
   "cell_type": "code",
   "execution_count": 123,
   "metadata": {},
   "outputs": [
    {
     "data": {
      "text/plain": [
       "1"
      ]
     },
     "execution_count": 123,
     "metadata": {},
     "output_type": "execute_result"
    }
   ],
   "source": [
    "a,b,c,d = 10,5,3,1\n",
    "\n",
    "smallest = a if a < b else (b if b < c else (c if c < d else d))\n",
    "smallest"
   ]
  }
 ],
 "metadata": {
  "kernelspec": {
   "display_name": "Python 3.10.5 64-bit",
   "language": "python",
   "name": "python3"
  },
  "language_info": {
   "codemirror_mode": {
    "name": "ipython",
    "version": 3
   },
   "file_extension": ".py",
   "mimetype": "text/x-python",
   "name": "python",
   "nbconvert_exporter": "python",
   "pygments_lexer": "ipython3",
   "version": "3.10.5"
  },
  "orig_nbformat": 4,
  "vscode": {
   "interpreter": {
    "hash": "369f2c481f4da34e4445cda3fffd2e751bd1c4d706f27375911949ba6bb62e1c"
   }
  }
 },
 "nbformat": 4,
 "nbformat_minor": 2
}
