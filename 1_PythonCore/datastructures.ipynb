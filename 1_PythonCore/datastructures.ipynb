{
 "cells": [
  {
   "cell_type": "markdown",
   "metadata": {},
   "source": [
    "## Python has 04 core data structures"
   ]
  },
  {
   "cell_type": "markdown",
   "metadata": {},
   "source": [
    "# List [ ]"
   ]
  },
  {
   "cell_type": "markdown",
   "metadata": {},
   "source": [
    "## Update and Delete"
   ]
  },
  {
   "cell_type": "code",
   "execution_count": null,
   "metadata": {},
   "outputs": [],
   "source": [
    "var = [23,19,21,22,31,24,25,27]\n",
    "var"
   ]
  },
  {
   "cell_type": "code",
   "execution_count": null,
   "metadata": {},
   "outputs": [],
   "source": [
    "var[1]\n",
    "var[2:6]"
   ]
  },
  {
   "cell_type": "code",
   "execution_count": null,
   "metadata": {},
   "outputs": [],
   "source": [
    "# update\n",
    "var[1] = 20\n",
    "var\n",
    "var[2:5] = 17,18,19\n",
    "var"
   ]
  },
  {
   "cell_type": "code",
   "execution_count": null,
   "metadata": {},
   "outputs": [],
   "source": [
    "#del\n",
    "del var[1]\n",
    "var"
   ]
  },
  {
   "cell_type": "code",
   "execution_count": null,
   "metadata": {},
   "outputs": [],
   "source": [
    "del var"
   ]
  },
  {
   "cell_type": "code",
   "execution_count": null,
   "metadata": {},
   "outputs": [],
   "source": [
    "var = [23,19,21,22,31,24,25,27,27]\n",
    "var"
   ]
  },
  {
   "cell_type": "code",
   "execution_count": null,
   "metadata": {},
   "outputs": [],
   "source": [
    "my_list = ['string',100,2.3]\n",
    "my_list\n",
    "len(my_list)\n",
    "my_list[0]\n",
    "my_list[0]\n",
    "mylist = ['one','two','three']\n",
    "newlist = ['four','five','six']\n"
   ]
  },
  {
   "cell_type": "code",
   "execution_count": null,
   "metadata": {},
   "outputs": [],
   "source": [
    "mylist\n",
    "newlist\n",
    "dif_list = mylist + newlist\n",
    "dif_list\n",
    "newlist\n",
    "dif_list\n",
    "dif_list[0] = \"ONE IN ALL CAPS\"\n",
    "dif_list.append('six')\n",
    "dif_list.pop()\n",
    "popped_items = dif_list.pop()\n",
    "popped_items\n",
    "dif_list\n",
    "\n",
    "# indexing works on pop function, if I want to remove two from dif_list then\n",
    "\n",
    "dif_list.pop(1)\n",
    "dif_list"
   ]
  },
  {
   "cell_type": "code",
   "execution_count": null,
   "metadata": {},
   "outputs": [],
   "source": [
    "my_list = [1,2,[1,2]]\n",
    "my_list [2][1]\n",
    "character_list = ['y','a','t','c','u','d']\n",
    "character_list.sort()\n",
    "character_list\n",
    "num_list = [9,4,6,2,1]\n",
    "num_list.sort()\n",
    "num_list"
   ]
  },
  {
   "cell_type": "markdown",
   "metadata": {},
   "source": [
    "## Methods"
   ]
  },
  {
   "cell_type": "code",
   "execution_count": null,
   "metadata": {},
   "outputs": [],
   "source": [
    "\n",
    "var = [23,19,21,22,31,24,25,27,27]\n",
    "var1 = [45,67,67.5]\n",
    "var.append(32)\n",
    "var\n",
    "var.insert(2,20)\n",
    "var\n",
    "var.count(27)\n",
    "var.pop()  # pop will delete the last value in a list\n",
    "var\n",
    "var.pop()\n",
    "var.remove(22) #it will delete any index rather it it will take the value to remove\n",
    "var.extend(var1) #Extend will Merge two lists together\n",
    "var.reverse() \n",
    "var.sort() #Asc to Desc order\n",
    "var.sort(reverse=True) #Desc to Asc order\n",
    "var.clear() #Will remove all the data from the list\n"
   ]
  },
  {
   "cell_type": "markdown",
   "metadata": {},
   "source": [
    "## Shallow copy and deep copy"
   ]
  },
  {
   "cell_type": "code",
   "execution_count": null,
   "metadata": {},
   "outputs": [],
   "source": [
    "var1 = [45,67,67.5]\n",
    "var1\n"
   ]
  },
  {
   "cell_type": "code",
   "execution_count": null,
   "metadata": {},
   "outputs": [],
   "source": [
    "# Shallow copy [source will be also changes in the Shallow coopy]\n",
    "var2 = var1\n",
    "var2.append(33) #"
   ]
  },
  {
   "cell_type": "code",
   "execution_count": null,
   "metadata": {},
   "outputs": [],
   "source": [
    "# Deep Copy [Source will not change if any changes to the copied list]\n",
    "var3 = var1.copy()\n",
    "var3.append(35)"
   ]
  },
  {
   "cell_type": "markdown",
   "metadata": {},
   "source": [
    "# Tuple( )"
   ]
  },
  {
   "cell_type": "code",
   "execution_count": null,
   "metadata": {},
   "outputs": [],
   "source": [
    "#Is similar to List but immutable you can't change the data\n",
    "\n",
    "tup = (45, 67, 67.5, \"Python\", True, 1+7j)\n",
    "tup[1:]"
   ]
  },
  {
   "cell_type": "code",
   "execution_count": 62,
   "metadata": {},
   "outputs": [
    {
     "data": {
      "text/plain": [
       "4"
      ]
     },
     "execution_count": 62,
     "metadata": {},
     "output_type": "execute_result"
    }
   ],
   "source": [
    "t = (1,2,3)\n",
    "my_list = [1,2,3]\n",
    "type(t)\n",
    "type(my_list)\n",
    "len(t)\n",
    "t = ('one',2,'three',4)\n",
    "t [2]\n",
    "t [-1]"
   ]
  },
  {
   "cell_type": "code",
   "execution_count": 68,
   "metadata": {},
   "outputs": [
    {
     "data": {
      "text/plain": [
       "['new', 2, 3]"
      ]
     },
     "execution_count": 68,
     "metadata": {},
     "output_type": "execute_result"
    }
   ],
   "source": [
    "my_list [0] = \"new\"\n",
    "my_list"
   ]
  },
  {
   "cell_type": "markdown",
   "metadata": {},
   "source": [
    "## Method"
   ]
  },
  {
   "cell_type": "code",
   "execution_count": null,
   "metadata": {},
   "outputs": [],
   "source": [
    "# Only two methods available\n",
    "\n",
    "tup.count(67)\n",
    "tup.index(\"Python\")"
   ]
  },
  {
   "cell_type": "code",
   "execution_count": null,
   "metadata": {},
   "outputs": [],
   "source": []
  },
  {
   "cell_type": "markdown",
   "metadata": {},
   "source": [
    "# Set"
   ]
  },
  {
   "cell_type": "code",
   "execution_count": null,
   "metadata": {},
   "outputs": [],
   "source": [
    "s1 = {6,2,2,3,3,4,5}\n",
    "s2 = {6,5,7,9,8}\n",
    "s1.union(s2)\n",
    "s1.intersection(s2)\n",
    "s1.difference(s2)\n",
    "s2.difference(s1) \n",
    "s1.symmetric_difference(s2) #Will give the uncommon results from both but merged"
   ]
  },
  {
   "cell_type": "markdown",
   "metadata": {},
   "source": [
    "## Method"
   ]
  },
  {
   "cell_type": "code",
   "execution_count": null,
   "metadata": {},
   "outputs": [],
   "source": [
    "s1\n",
    "s1.add(45) #add the number to the last\n",
    "s1.discard(46)\n",
    "s1.remove(4)\n",
    "s1.pop() #remove the value from the start in set"
   ]
  },
  {
   "cell_type": "markdown",
   "metadata": {},
   "source": [
    "# Dictionary"
   ]
  },
  {
   "cell_type": "code",
   "execution_count": 55,
   "metadata": {},
   "outputs": [
    {
     "data": {
      "text/plain": [
       "dict_items([('k1', 100), ('k2', 200), ('k3', 300)])"
      ]
     },
     "execution_count": 55,
     "metadata": {},
     "output_type": "execute_result"
    }
   ],
   "source": [
    "my_dict = {'key1':'val1','key2':'val2'}\n",
    "my_dict\n",
    "my_dict['key2']\n",
    "price_lookup = {'Apple':20,'Orange':25,'Banana':10}\n",
    "price_lookup\n",
    "price_lookup['Apple']\n",
    "d = {'k1':123,'k2':[2,4,6],'k3':{'nd':540}}\n",
    "d ['k2'] [1]\n",
    "d ['k3'] ['nd']\n",
    "di = {'k1':100,'k2':200}\n",
    "di ['k3'] = 300\n",
    "di.items()"
   ]
  },
  {
   "cell_type": "code",
   "execution_count": null,
   "metadata": {},
   "outputs": [],
   "source": [
    "#Mapping of the data\n",
    "\n",
    "std = {\"Roll\" : 23, \"Name\" : \"Rahan\", 'Dept': \"CSE\"}\n",
    "std"
   ]
  },
  {
   "cell_type": "code",
   "execution_count": null,
   "metadata": {},
   "outputs": [],
   "source": [
    "std ['Dept'] #Getting the value of the dictionary"
   ]
  },
  {
   "cell_type": "code",
   "execution_count": null,
   "metadata": {},
   "outputs": [],
   "source": [
    "std['Roll'] = 21 #updating the value of the dictionary\n",
    "std['Roll']\n"
   ]
  },
  {
   "cell_type": "code",
   "execution_count": null,
   "metadata": {},
   "outputs": [],
   "source": [
    "#Adding new key:value\n",
    "std ['subs'] = ['Math','OS','Networks']"
   ]
  },
  {
   "cell_type": "code",
   "execution_count": null,
   "metadata": {},
   "outputs": [],
   "source": [
    "std.keys() #To see the keys in the dictionary\n",
    "std.values() #To see the values\n",
    "std.items() #To see keys and values together\n",
    "std.get('dept','Na') #get will handle the error.\n",
    "std.pop('Dept')"
   ]
  },
  {
   "cell_type": "code",
   "execution_count": null,
   "metadata": {},
   "outputs": [],
   "source": [
    "std\n",
    "std.popitem() #Will remove the last item\n",
    "std"
   ]
  },
  {
   "cell_type": "code",
   "execution_count": null,
   "metadata": {},
   "outputs": [],
   "source": []
  }
 ],
 "metadata": {
  "kernelspec": {
   "display_name": "Python 3.10.5 64-bit",
   "language": "python",
   "name": "python3"
  },
  "language_info": {
   "codemirror_mode": {
    "name": "ipython",
    "version": 3
   },
   "file_extension": ".py",
   "mimetype": "text/x-python",
   "name": "python",
   "nbconvert_exporter": "python",
   "pygments_lexer": "ipython3",
   "version": "3.10.5"
  },
  "orig_nbformat": 4,
  "vscode": {
   "interpreter": {
    "hash": "369f2c481f4da34e4445cda3fffd2e751bd1c4d706f27375911949ba6bb62e1c"
   }
  }
 },
 "nbformat": 4,
 "nbformat_minor": 2
}
