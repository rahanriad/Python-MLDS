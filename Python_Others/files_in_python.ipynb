{
 "cells": [
  {
   "cell_type": "code",
   "execution_count": null,
   "metadata": {},
   "outputs": [],
   "source": [
    "pwd"
   ]
  },
  {
   "cell_type": "code",
   "execution_count": null,
   "metadata": {},
   "outputs": [],
   "source": [
    "Myfile = open(\"Myfile.txt\")\n",
    "Myfile.read()"
   ]
  },
  {
   "cell_type": "code",
   "execution_count": null,
   "metadata": {},
   "outputs": [],
   "source": [
    "hungry = False\n",
    "if hungry:\n",
    "    print('FEED ME!')\n",
    "else:\n",
    "    print('I am not hungry')\n"
   ]
  },
  {
   "cell_type": "code",
   "execution_count": null,
   "metadata": {},
   "outputs": [],
   "source": [
    "loc = \"Bank\"\n",
    "\n",
    "if loc == \"Auto Shop\":\n",
    "    print(\"Cars are cool!\")\n",
    "elif loc == \"Store\":\n",
    "    print(\"Welcome to store!\")\n",
    "elif loc == \"Bank\":\n",
    "    print(\"Money is Cool!\")\n",
    "else:\n",
    "    print(\"I don't know much!\")\n"
   ]
  },
  {
   "cell_type": "code",
   "execution_count": null,
   "metadata": {},
   "outputs": [],
   "source": [
    "name = \"Rajon\"\n",
    "if name == \"Rahan\":\n",
    "    print(\"Hello Rahan\")\n",
    "elif name == \"Rajon\":\n",
    "    print(\"Hello Rajon\")\n",
    "else:\n",
    "    print(\"What is your name?\")"
   ]
  },
  {
   "cell_type": "code",
   "execution_count": null,
   "metadata": {},
   "outputs": [],
   "source": [
    "my_list = [1,2,3]\n",
    "for num in my_list:\n",
    "    print(\"Hello\")"
   ]
  },
  {
   "cell_type": "code",
   "execution_count": null,
   "metadata": {},
   "outputs": [],
   "source": [
    "from traceback import print_tb\n",
    "\n",
    "my_list = [1,2,3,4,5,6,7,8,9,10]\n",
    "\n",
    "for num in my_list:\n",
    "    if num % 2 == 0:\n",
    "        print(f\"Even Number: {num}\")\n",
    "    else:\n",
    "        print(f\"Odd Number: {num}\")"
   ]
  },
  {
   "cell_type": "code",
   "execution_count": null,
   "metadata": {},
   "outputs": [],
   "source": [
    "for letter in \"Hello World\":\n",
    "    print(letter)"
   ]
  },
  {
   "cell_type": "code",
   "execution_count": null,
   "metadata": {},
   "outputs": [],
   "source": [
    "my_list = [(1,2),(3,4),(5,6)]\n",
    "\n",
    "for a,b in my_list:\n",
    "    print(b)"
   ]
  },
  {
   "cell_type": "code",
   "execution_count": null,
   "metadata": {},
   "outputs": [],
   "source": [
    "my_list = [(1,3,5),(2,4,6),(7,5,9)]\n",
    "\n",
    "for a,b,c in my_list:\n",
    "    print(c)"
   ]
  },
  {
   "cell_type": "code",
   "execution_count": null,
   "metadata": {},
   "outputs": [],
   "source": [
    "d = {\"k1\":1, \"k2\":2, \"k3\":4}\n",
    "\n",
    "for item in d.values():\n",
    "    print(item)"
   ]
  },
  {
   "cell_type": "code",
   "execution_count": null,
   "metadata": {},
   "outputs": [],
   "source": [
    "x = 0\n",
    "\n",
    "while x < 5:\n",
    "    print(f\"The Current value of x is {x}\")\n",
    "    x = x + 1"
   ]
  },
  {
   "cell_type": "code",
   "execution_count": null,
   "metadata": {},
   "outputs": [],
   "source": [
    "x = 0\n",
    "while x < 6:\n",
    "    print(f\"The value of x is {x}\")\n",
    "    x += 1\n",
    "else:\n",
    "    print(f\"The value of x is not less than 5\")"
   ]
  },
  {
   "cell_type": "code",
   "execution_count": null,
   "metadata": {},
   "outputs": [],
   "source": [
    "x = [1,2,3]\n",
    "\n",
    "for items in x:\n",
    "    pass\n",
    "print(\"End of script\")"
   ]
  },
  {
   "cell_type": "code",
   "execution_count": null,
   "metadata": {},
   "outputs": [],
   "source": [
    "mystring = \"Sammy\"\n",
    "\n",
    "for letter in mystring:\n",
    "    if letter == \"a\":\n",
    "        break\n",
    "    print(letter)"
   ]
  },
  {
   "cell_type": "code",
   "execution_count": null,
   "metadata": {},
   "outputs": [],
   "source": [
    "x = 0\n",
    "\n",
    "while x < 5:\n",
    "    if x == 2:\n",
    "        break\n",
    "    print(x)\n",
    "    x += 1"
   ]
  },
  {
   "cell_type": "code",
   "execution_count": null,
   "metadata": {},
   "outputs": [],
   "source": [
    "for num in range(3,10,2):\n",
    "    print(num)"
   ]
  },
  {
   "cell_type": "code",
   "execution_count": null,
   "metadata": {},
   "outputs": [],
   "source": [
    "my_list = list(range(0,11))\n",
    "my_list"
   ]
  },
  {
   "cell_type": "code",
   "execution_count": null,
   "metadata": {},
   "outputs": [],
   "source": [
    "index_count = 0\n",
    "\n",
    "for letter in \"abcdefg\":\n",
    "\n",
    "    print(f'At index {index_count} the letter is {letter}')\n",
    "    index_count += 1"
   ]
  },
  {
   "cell_type": "code",
   "execution_count": 1,
   "metadata": {},
   "outputs": [],
   "source": [
    "result = input('What is your Name?')"
   ]
  },
  {
   "cell_type": "code",
   "execution_count": null,
   "metadata": {},
   "outputs": [],
   "source": []
  }
 ],
 "metadata": {
  "kernelspec": {
   "display_name": "Python 3.10.5 64-bit",
   "language": "python",
   "name": "python3"
  },
  "language_info": {
   "codemirror_mode": {
    "name": "ipython",
    "version": 3
   },
   "file_extension": ".py",
   "mimetype": "text/x-python",
   "name": "python",
   "nbconvert_exporter": "python",
   "pygments_lexer": "ipython3",
   "version": "3.10.5"
  },
  "orig_nbformat": 4,
  "vscode": {
   "interpreter": {
    "hash": "369f2c481f4da34e4445cda3fffd2e751bd1c4d706f27375911949ba6bb62e1c"
   }
  }
 },
 "nbformat": 4,
 "nbformat_minor": 2
}
